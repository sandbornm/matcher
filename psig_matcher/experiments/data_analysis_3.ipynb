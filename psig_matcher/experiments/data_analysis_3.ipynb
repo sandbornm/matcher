{
 "cells": [
  {
   "cell_type": "markdown",
   "metadata": {},
   "source": [
    "# Experiment 2: Part Type Collision Analysis\n",
    "\n",
    "This notebook will contain gathered results from experiment 2."
   ]
  },
  {
   "cell_type": "markdown",
   "metadata": {},
   "source": [
    "# Part Type Collision Analysis\n",
    "## Methodology\n",
    "For each part type we have, run the experiment many times over many different hyperparameters. Specifically, isolate one hyperparameter, run the experiment over a range of values, tracking the computed collision rate each time. Repeat this for each hyperparameter and each part type.\n",
    "## Deliverables\n",
    "Graphs and analysis for the impact of different values of the hyperparmeters. How do they affect the final collision rate? Why are the effecting the collision rate like that? What does this tell us? \n",
    "Graphs and analysis for comparing the results across different part types. Are different part types affected in the same way by the same change in hyperperamters? How close are their collision rates? What does this tell us about the relative importance of both hyperparameters and part types. "
   ]
  },
  {
   "cell_type": "markdown",
   "metadata": {},
   "source": [
    "## Source Code\n",
    "\n",
    "The below sections contains all of our source codes."
   ]
  },
  {
   "cell_type": "code",
   "execution_count": null,
   "metadata": {},
   "outputs": [],
   "source": [
    "import mlflow\n",
    "import pandas as pd\n",
    "import numpy as np\n",
    "import matplotlib.pyplot as plt"
   ]
  },
  {
   "cell_type": "code",
   "execution_count": null,
   "metadata": {},
   "outputs": [],
   "source": [
    "import os \n",
    "\n",
    "user_path = '~/GitHub/matcher'  # CHANGE THIS LINE AS NEEDED FOR YOUR ENVIRONMENT\n",
    "os.chdir(os.path.expanduser(user_path))"
   ]
  },
  {
   "cell_type": "code",
   "execution_count": null,
   "metadata": {},
   "outputs": [],
   "source": [
    "def get_metrics_series(mlruns_path: str, experiment_id: str, run_id: str, metric_name: str) -> list:\n",
    "    \"\"\"Get a series of metric values for a given metric name.\"\"\"\n",
    "    with open(f'{mlruns_path}/{experiment_id}/{run_id}/metrics/{metric_name}') as f:\n",
    "        file_lines = f.readlines()\n",
    "    return [float(line.split()[1]) for line in file_lines]"
   ]
  },
  {
   "cell_type": "code",
   "execution_count": null,
   "metadata": {},
   "outputs": [],
   "source": [
    "experiment_id = mlflow.get_experiment_by_name(name='Experiment 3').experiment_id\n",
    "runs_df = mlflow.search_runs(experiment_ids=experiment_id, max_results=10_000)\n",
    "runs_df['monte_carlo_upper_collision_rate_series'] = runs_df.apply(\n",
    "    lambda row: get_metrics_series(\n",
    "            mlruns_path='mlruns', \n",
    "            experiment_id=experiment_id, \n",
    "            run_id=row['run_id'], \n",
    "            metric_name='monte_carlo_upper_collision_rate'), \n",
    "    axis=1)\n",
    "\n",
    "print(runs_df.head(1)['monte_carlo_upper_collision_rate_series'])\n",
    "print(runs_df['params.confidence_bound'])\n"
   ]
  },
  {
   "cell_type": "code",
   "execution_count": null,
   "metadata": {},
   "outputs": [],
   "source": [
    "base_meta_pdf_ci = 0.995\n",
    "base_part_pdf_ci = 0.995\n",
    "base_confidence_bound = 0.995\n",
    "\n",
    "runs_df['params.meta_pdf_ci'] = runs_df['params.meta_pdf_ci'].astype(float)\n",
    "runs_df['params.part_pdf_ci'] = runs_df['params.part_pdf_ci'].astype(float)\n",
    "runs_df['params.confidence_bound'] = runs_df['params.confidence_bound'].astype(float)\n",
    "\n"
   ]
  },
  {
   "cell_type": "code",
   "execution_count": null,
   "metadata": {},
   "outputs": [],
   "source": [
    "mlflow.end_run()\n",
    "mlflow.start_run()\n",
    "\n",
    "\n",
    "meta_pdf_ci_analysis_df = runs_df.loc[\n",
    "    (runs_df['params.confidence_bound'] == base_confidence_bound) &\n",
    "    (runs_df['params.part_pdf_ci'] == base_part_pdf_ci)]\n",
    "part_pdf_ci_analysis_df = runs_df.loc[\n",
    "    (runs_df['params.confidence_bound'] == base_confidence_bound) &\n",
    "    (runs_df['params.meta_pdf_ci'] == base_meta_pdf_ci)]\n",
    "confidence_bound_analysis_df = runs_df.loc[\n",
    "    (runs_df['params.meta_pdf_ci'] == base_meta_pdf_ci) &\n",
    "    (runs_df['params.part_pdf_ci'] == base_part_pdf_ci)]\n",
    "\n",
    "meta_pdf_ci_part_groups = meta_pdf_ci_analysis_df.groupby('params.part_type')\n",
    "part_pdf_ci_part_groups = part_pdf_ci_analysis_df.groupby('params.part_type')\n",
    "confidence_bound_part_groups = confidence_bound_analysis_df.groupby('params.part_type')\n",
    "\n",
    "\n",
    "def run_experiment(df_groups, param_col: str):\n",
    "    \n",
    "    for part_type, part_group in df_groups:\n",
    "    \n",
    "        part_group.sort_values(by=param_col, inplace=True)\n",
    "        vars = [\n",
    "            np.var(np.array(param_collision_rates)) \n",
    "            for param_collision_rates in part_group['monte_carlo_upper_collision_rate_series'].to_numpy()]    \n",
    "        plt.plot(part_group[param_col], vars, label=f'{part_type} - Correlation: {np.corrcoef(part_group[param_col], vars)[0,1]:.2f}')\n",
    "    \n",
    "    plt.legend()\n",
    "    plt.title(f'Variance of Collision Rates vs {param_col}')\n",
    "    plt.xlabel(f'{param_col}')\n",
    "    plt.ylabel('Variance of Collision Rates')\n",
    "    plt.savefig(f'psig_matcher/experiments/graphs/variance_of_collision_rates_vs_{param_col}.png')\n",
    "    mlflow.log_artifact(f'psig_matcher/experiments/graphs/variance_of_collision_rates_vs_{param_col}.png')\n",
    "    plt.clf()\n",
    "        \n",
    "run_experiment(meta_pdf_ci_part_groups, 'params.meta_pdf_ci')\n",
    "run_experiment(part_pdf_ci_part_groups, 'params.part_pdf_ci')\n",
    "run_experiment(confidence_bound_part_groups, 'params.confidence_bound')\n",
    "    "
   ]
  },
  {
   "cell_type": "code",
   "execution_count": 81,
   "metadata": {},
   "outputs": [
    {
     "name": "stderr",
     "output_type": "stream",
     "text": [
      "/var/folders/vm/kv5c83xd7zng0b6jhjd95w_w0000gn/T/ipykernel_86951/762699656.py:1: SettingWithCopyWarning: \n",
      "A value is trying to be set on a copy of a slice from a DataFrame\n",
      "\n",
      "See the caveats in the documentation: https://pandas.pydata.org/pandas-docs/stable/user_guide/indexing.html#returning-a-view-versus-a-copy\n",
      "  meta_pdf_ci_analysis_df.sort_values(by='params.meta_pdf_ci', inplace=True)\n"
     ]
    },
    {
     "data": {
      "text/plain": [
       "<Figure size 640x480 with 0 Axes>"
      ]
     },
     "metadata": {},
     "output_type": "display_data"
    }
   ],
   "source": [
    "meta_pdf_ci_analysis_df.sort_values(by='params.meta_pdf_ci', inplace=True)\n",
    "meta_pdf_ci_param_groups = meta_pdf_ci_analysis_df.groupby('params.meta_pdf_ci')\n",
    "\n",
    "x_vals = []\n",
    "averaged_varainces = []\n",
    "for meta_pdf_ci, df in meta_pdf_ci_param_groups:\n",
    "    x_vals.append(meta_pdf_ci)\n",
    "    averaged_varainces.append(np.mean([\n",
    "        np.var(np.array(param_collision_rates)) \n",
    "        for param_collision_rates in df['monte_carlo_upper_collision_rate_series'].to_numpy()]))\n",
    "\n",
    "plt.plot(x_vals, averaged_varainces, label=f'Average Variance of Collision Rates Across all Part Types')\n",
    "plt.legend()\n",
    "plt.xlabel('Meta PDF Confidence Interval')\n",
    "plt.ylabel('Variance of Collision Rates')\n",
    "plt.title('Average Variance of Collision Rates vs Meta PDF Confidence Interval')\n",
    "plt.savefig(f'psig_matcher/experiments/graphs/average_variance_of_collision_rates_vs_meta_pdf_ci.png')\n",
    "mlflow.log_artifact(f'psig_matcher/experiments/graphs/average_variance_of_collision_rates_vs_meta_pdf_ci.png')\n",
    "plt.clf()"
   ]
  }
 ],
 "metadata": {
  "kernelspec": {
   "display_name": "Python 3 (ipykernel)",
   "language": "python",
   "name": "python3"
  },
  "language_info": {
   "codemirror_mode": {
    "name": "ipython",
    "version": 3
   },
   "file_extension": ".py",
   "mimetype": "text/x-python",
   "name": "python",
   "nbconvert_exporter": "python",
   "pygments_lexer": "ipython3",
   "version": "3.10.6"
  },
  "vscode": {
   "interpreter": {
    "hash": "7e408d6d2624d2574650b7f4ce724a272157838fb62dd59ce9f909f9eb3ba3f6"
   }
  }
 },
 "nbformat": 4,
 "nbformat_minor": 2
}
