{
 "cells": [
  {
   "cell_type": "code",
   "execution_count": 2,
   "metadata": {},
   "outputs": [],
   "source": [
    "from line_profiler import LineProfiler"
   ]
  },
  {
   "cell_type": "code",
   "execution_count": 3,
   "metadata": {},
   "outputs": [],
   "source": [
    "from dataclasses import dataclass\n",
    "from typing import List, Tuple, Optional\n",
    "import numpy as np\n",
    "import pandas as pd\n",
    "import os\n",
    "import glob\n",
    "import matplotlib.pyplot as plt\n",
    "from scipy.stats import norm\n",
    "import scipy.stats as st\n",
    "from statistics import NormalDist\n",
    "from scipy.stats import multivariate_normal as mvn\n",
    "import time\n",
    "from scipy import stats\n",
    "import multiprocessing as mp\n",
    "import dataclasses\n",
    "\n",
    "@dataclass\n",
    "class NormalDistribution:\n",
    "    mean: float\n",
    "    std: float\n",
    "    \n",
    "@dataclass\n",
    "class Part:\n",
    "    \n",
    "    type: str\n",
    "    sub_part_name: str\n",
    "    sensor: str\n",
    "    signals: List   # Signal is numpy array of (500,3) with [frequency, Z, X]"
   ]
  },
  {
   "cell_type": "code",
   "execution_count": 17,
   "metadata": {},
   "outputs": [
    {
     "name": "stdout",
     "output_type": "stream",
     "text": [
      "/Users/michael/GradSchool/Fall2022/piezo_research/matcher/psig_matcher/data/x\n"
     ]
    }
   ],
   "source": [
    "print(os.path.abspath(os.path.join(os.path.dirname(os.getcwd()), 'data', 'x')))"
   ]
  },
  {
   "cell_type": "code",
   "execution_count": 46,
   "metadata": {},
   "outputs": [
    {
     "name": "stdout",
     "output_type": "stream",
     "text": [
      "/Users/michael/GradSchool/Fall2022/piezo_research/matcher/psig_matcher/data\n",
      "/Users/michael/GradSchool/Fall2022/piezo_research/matcher/psig_matcher/data/Ax1/CON\n",
      "/Users/michael/GradSchool/Fall2022/piezo_research/matcher/psig_matcher/data/Cx3/CON\n",
      "/Users/michael/GradSchool/Fall2022/piezo_research/matcher/psig_matcher/data/Bx2/CON\n",
      "/Users/michael/GradSchool/Fall2022/piezo_research/matcher/psig_matcher/data\n",
      "/Users/michael/GradSchool/Fall2022/piezo_research/matcher/psig_matcher/data/Bx5/LID\n",
      "/Users/michael/GradSchool/Fall2022/piezo_research/matcher/psig_matcher/data/Cx6/LID\n",
      "/Users/michael/GradSchool/Fall2022/piezo_research/matcher/psig_matcher/data/Ax4/LID\n"
     ]
    }
   ],
   "source": [
    "\n",
    "def load_part_data(part_type: str) -> List[Part]:\n",
    "    \n",
    "    parts = []\n",
    "    fpath = os.path.abspath(os.path.join(os.path.dirname(os.getcwd()), 'data'))\n",
    "    print(fpath)  # handle general paths\n",
    "    # f'psig_matcher/data/{part_type}'\n",
    "    for part_dir in os.listdir(os.path.join(fpath, part_type)):\n",
    "        sensor = part_dir[1:]\n",
    "        print(os.path.join(fpath, part_dir, part_type))\n",
    "        measurement_files = glob.glob(f'{os.path.join(fpath, part_type, part_dir)}/*.npy')\n",
    "        measurements = [np.load(f) for f in measurement_files]\n",
    "        parts.append(Part(part_type, part_dir, sensor, measurements))\n",
    "    \n",
    "    return parts\n",
    "\n",
    "con_parts = load_part_data('CON')\n",
    "#conlid_parts = load_part_data('CONLID') # Need to handle the damage files\n",
    "lid_parts = load_part_data('LID')"
   ]
  },
  {
   "cell_type": "code",
   "execution_count": 47,
   "metadata": {},
   "outputs": [],
   "source": [
    "def limit_deminsionality(parts: List[Part], frequeny_indexes: List[int]) -> List[Part]:\n",
    "    \"\"\"Use only a subset of the frequencies for the analysis. This effectivley transforms the \n",
    "    500 dimension multivariant distribution to a n-dimentional distribution where n is the\n",
    "    length of the frequency_indexes.\n",
    "    \n",
    "    Further, this assumes use of the X axis\"\"\"\n",
    "    \n",
    "    return [\n",
    "        dataclasses.replace(part, signals=[[signal[index][1] for index in frequeny_indexes] for signal in part.signals])\n",
    "        for part in parts]"
   ]
  },
  {
   "cell_type": "code",
   "execution_count": 21,
   "metadata": {},
   "outputs": [],
   "source": [
    "def estimate_normal_dist(x: List[float], confidence: float) -> NormalDistribution:\n",
    "    \"\"\"Estimate the normal distribution for the given data.\n",
    "    This is done using: https://handbook-5-1.cochrane.org/chapter_7/7_7_3_2_obtaining_standard_deviations_from_standard_errors_and.htm#:~:text=The%20standard%20deviation%20for%20each,should%20be%20replaced%20by%205.15.\n",
    "    \n",
    "    TODO (henry): I'm not sure this is correct.\n",
    "    \"\"\"\n",
    "    \n",
    "    # Use T distribution for small sample sizes\n",
    "    if len(x) < 30:\n",
    "        lower, upper = st.t.interval(confidence, len(x)-1, loc=np.mean(x), scale=st.sem(x))\n",
    "        t_value = st.t.ppf(confidence, len(x)-1)\n",
    "        std = np.sqrt(len(x))*(upper-lower)*t_value\n",
    "    \n",
    "    # Use normal distribution for larger sample sizes\n",
    "    else:\n",
    "        lower, upper = st.norm.interval(confidence, loc=np.mean(x), scale=st.sem(x))\n",
    "        z_value = st.norm.ppf(confidence)\n",
    "        std = np.sqrt(len(x))*(upper-lower)*z_value\n",
    "    \n",
    "    return NormalDistribution(np.mean(x, axis=0), std)"
   ]
  },
  {
   "cell_type": "code",
   "execution_count": 48,
   "metadata": {},
   "outputs": [],
   "source": [
    "def concrete_normal_dist(x: List[float]) -> NormalDistribution:\n",
    "    return NormalDistribution(np.mean(x, axis=0), np.std(x, axis=0))"
   ]
  },
  {
   "cell_type": "code",
   "execution_count": 49,
   "metadata": {},
   "outputs": [],
   "source": [
    "def plot_single_distributions(pdfs: List[NormalDistribution], labels: List[str], title: str):\n",
    "    \"\"\" pdfs is a list of tuples of (mean, std) for each distribution.\"\"\"\n",
    "    \n",
    "    for pdf, label in zip(pdfs, labels):\n",
    "        \n",
    "        x = np.linspace(pdf.mean - 3* pdf.std, pdf.mean + 3* pdf.std, 100)\n",
    "        plt.plot(x, norm.pdf(x, pdf.mean, pdf.std), label=label)\n",
    "    \n",
    "    plt.legend(loc='best')\n",
    "    plt.title(title)\n",
    "    plt.show()"
   ]
  },
  {
   "cell_type": "code",
   "execution_count": 50,
   "metadata": {},
   "outputs": [],
   "source": [
    "def find_overlap(normal_d_1: NormalDistribution, normal_d_2: NormalDistribution) -> float:\n",
    "    \"\"\"Finds the overlap between two distributions.\"\"\"\n",
    "    \n",
    "    return NormalDist(mu=normal_d_1.mean, sigma=normal_d_1.std).overlap(NormalDist(mu=normal_d_2.mean, sigma=normal_d_2.std))\n"
   ]
  },
  {
   "cell_type": "code",
   "execution_count": 51,
   "metadata": {},
   "outputs": [],
   "source": [
    "def find_overlap_of_set(pdfs: List[NormalDistribution]) -> float:\n",
    "    \"\"\"Finds the overlap between a set of distributions.\"\"\"\n",
    "    \n",
    "    overlaps = []\n",
    "    for i in range(len(pdfs)):\n",
    "        for k in range(i+1, len(pdfs)):\n",
    "            # Currently this method redundantly counts overlaps that may have already been accounted for. \n",
    "            # If A and B overlap on the edge of B, but C also overlaps on the edge of B, we're double\n",
    "            # counting that overlap. Maybe we want to do this? \n",
    "            overlaps.append(find_overlap(pdfs[i], pdfs[k]))\n",
    "    \n",
    "    return np.mean(overlaps)"
   ]
  },
  {
   "cell_type": "code",
   "execution_count": 52,
   "metadata": {},
   "outputs": [
    {
     "name": "stdout",
     "output_type": "stream",
     "text": [
      "[Part(type='CON', sub_part_name='Ax1', sensor='x1', signals=[array([[ 1.000000e+04,  1.241903e+03, -1.236173e+03],\n",
      "       [ 1.028100e+04,  1.205009e+03, -1.200160e+03],\n",
      "       [ 1.056100e+04,  1.169480e+03, -1.164446e+03],\n",
      "       ...,\n",
      "       [ 1.494400e+05,  1.367002e+02, -1.322233e+02],\n",
      "       [ 1.497200e+05,  1.352763e+02, -1.310638e+02],\n",
      "       [ 1.500000e+05,  1.339089e+02, -1.298953e+02]]), array([[ 1.000000e+04,  1.237804e+03, -1.232429e+03],\n",
      "       [ 1.028100e+04,  1.197501e+03, -1.192977e+03],\n",
      "       [ 1.056100e+04,  1.161383e+03, -1.156226e+03],\n",
      "       ...,\n",
      "       [ 1.494400e+05,  1.365823e+02, -1.320626e+02],\n",
      "       [ 1.497200e+05,  1.351697e+02, -1.309199e+02],\n",
      "       [ 1.500000e+05,  1.338186e+02, -1.297711e+02]]), array([[ 1.000000e+04,  1.231336e+03, -1.224784e+03],\n",
      "       [ 1.028100e+04,  1.194632e+03, -1.188328e+03],\n",
      "       [ 1.056100e+04,  1.174042e+03, -1.167742e+03],\n",
      "       ...,\n",
      "       [ 1.494400e+05,  1.353826e+02, -1.316107e+02],\n",
      "       [ 1.497200e+05,  1.339316e+02, -1.303323e+02],\n",
      "       [ 1.500000e+05,  1.325994e+02, -1.291248e+02]]), array([[ 1.000000e+04,  1.234932e+03, -1.229100e+03],\n",
      "       [ 1.028100e+04,  1.197553e+03, -1.192479e+03],\n",
      "       [ 1.056100e+04,  1.170499e+03, -1.164898e+03],\n",
      "       ...,\n",
      "       [ 1.494400e+05,  1.363404e+02, -1.319859e+02],\n",
      "       [ 1.497200e+05,  1.349132e+02, -1.308099e+02],\n",
      "       [ 1.500000e+05,  1.335474e+02, -1.296311e+02]]), array([[ 1.000000e+04,  1.236454e+03, -1.231637e+03],\n",
      "       [ 1.028100e+04,  1.190723e+03, -1.186409e+03],\n",
      "       [ 1.056100e+04,  1.157848e+03, -1.152536e+03],\n",
      "       ...,\n",
      "       [ 1.494400e+05,  1.363408e+02, -1.320235e+02],\n",
      "       [ 1.497200e+05,  1.348907e+02, -1.308181e+02],\n",
      "       [ 1.500000e+05,  1.335151e+02, -1.296233e+02]])]), Part(type='CON', sub_part_name='Cx3', sensor='x3', signals=[array([[ 1.000000e+04,  1.435838e+03, -1.430186e+03],\n",
      "       [ 1.028100e+04,  1.383773e+03, -1.380945e+03],\n",
      "       [ 1.056100e+04,  1.342405e+03, -1.338954e+03],\n",
      "       ...,\n",
      "       [ 1.494400e+05,  9.692663e+01, -9.087953e+01],\n",
      "       [ 1.497200e+05,  9.642238e+01, -9.003176e+01],\n",
      "       [ 1.500000e+05,  9.612892e+01, -8.935145e+01]]), array([[ 1.000000e+04,  1.431568e+03, -1.425125e+03],\n",
      "       [ 1.028100e+04,  1.384236e+03, -1.381367e+03],\n",
      "       [ 1.056100e+04,  1.339486e+03, -1.335958e+03],\n",
      "       ...,\n",
      "       [ 1.494400e+05,  9.708033e+01, -9.104033e+01],\n",
      "       [ 1.497200e+05,  9.655925e+01, -9.018466e+01],\n",
      "       [ 1.500000e+05,  9.624618e+01, -8.949165e+01]]), array([[ 1.000000e+04,  1.408892e+03, -1.406021e+03],\n",
      "       [ 1.028100e+04,  1.373068e+03, -1.370158e+03],\n",
      "       [ 1.056100e+04,  1.331435e+03, -1.328648e+03],\n",
      "       ...,\n",
      "       [ 1.494400e+05,  9.668963e+01, -8.970676e+01],\n",
      "       [ 1.497200e+05,  9.640408e+01, -8.901263e+01],\n",
      "       [ 1.500000e+05,  9.635219e+01, -8.852999e+01]]), array([[ 1.000000e+04,  1.434203e+03, -1.428095e+03],\n",
      "       [ 1.028100e+04,  1.387563e+03, -1.384621e+03],\n",
      "       [ 1.056100e+04,  1.344343e+03, -1.340897e+03],\n",
      "       ...,\n",
      "       [ 1.494400e+05,  9.707356e+01, -9.113717e+01],\n",
      "       [ 1.497200e+05,  9.654662e+01, -9.027608e+01],\n",
      "       [ 1.500000e+05,  9.621737e+01, -8.956808e+01]]), array([[ 1.000000e+04,  1.430282e+03, -1.423558e+03],\n",
      "       [ 1.028100e+04,  1.387459e+03, -1.384483e+03],\n",
      "       [ 1.056100e+04,  1.344790e+03, -1.341257e+03],\n",
      "       ...,\n",
      "       [ 1.494400e+05,  9.720360e+01, -9.127843e+01],\n",
      "       [ 1.497200e+05,  9.665855e+01, -9.040642e+01],\n",
      "       [ 1.500000e+05,  9.631018e+01, -8.968770e+01]])]), Part(type='CON', sub_part_name='Bx2', sensor='x2', signals=[array([[ 1.000000e+04,  1.262776e+03, -1.259012e+03],\n",
      "       [ 1.028100e+04,  1.236968e+03, -1.234057e+03],\n",
      "       [ 1.056100e+04,  1.196471e+03, -1.193347e+03],\n",
      "       ...,\n",
      "       [ 1.494400e+05,  7.250826e+01, -5.427324e+01],\n",
      "       [ 1.497200e+05,  7.362006e+01, -5.353469e+01],\n",
      "       [ 1.500000e+05,  7.486377e+01, -5.284689e+01]]), array([[ 1.000000e+04,  1.260770e+03, -1.256978e+03],\n",
      "       [ 1.028100e+04,  1.232940e+03, -1.230064e+03],\n",
      "       [ 1.056100e+04,  1.197699e+03, -1.194422e+03],\n",
      "       ...,\n",
      "       [ 1.494400e+05,  7.238524e+01, -5.411316e+01],\n",
      "       [ 1.497200e+05,  7.352073e+01, -5.337176e+01],\n",
      "       [ 1.500000e+05,  7.478757e+01, -5.268191e+01]]), array([[ 1.000000e+04,  1.276911e+03, -1.274105e+03],\n",
      "       [ 1.058100e+04,  1.232820e+03, -1.229641e+03],\n",
      "       [ 1.116200e+04,  1.168756e+03, -1.166306e+03],\n",
      "       ...,\n",
      "       [ 2.988400e+05,  5.657892e+01, -5.616665e+01],\n",
      "       [ 2.994200e+05,  5.650318e+01, -5.609576e+01],\n",
      "       [ 3.000000e+05,  5.642271e+01, -5.602188e+01]]), array([[ 1.000000e+04,  1.282573e+03, -1.279842e+03],\n",
      "       [ 1.058100e+04,  1.237513e+03, -1.234430e+03],\n",
      "       [ 1.116200e+04,  1.173159e+03, -1.170746e+03],\n",
      "       ...,\n",
      "       [ 2.988400e+05,  5.676155e+01, -5.635105e+01],\n",
      "       [ 2.994200e+05,  5.668764e+01, -5.628177e+01],\n",
      "       [ 3.000000e+05,  5.660600e+01, -5.620652e+01]]), array([[ 1.000000e+04,  1.278620e+03, -1.275851e+03],\n",
      "       [ 1.058100e+04,  1.233950e+03, -1.230832e+03],\n",
      "       [ 1.116200e+04,  1.170099e+03, -1.167663e+03],\n",
      "       ...,\n",
      "       [ 2.988400e+05,  5.660617e+01, -5.619454e+01],\n",
      "       [ 2.994200e+05,  5.654135e+01, -5.613430e+01],\n",
      "       [ 3.000000e+05,  5.645316e+01, -5.605276e+01]]), array([[ 1.000000e+04,  1.260557e+03, -1.257078e+03],\n",
      "       [ 1.028100e+04,  1.232337e+03, -1.229387e+03],\n",
      "       [ 1.056100e+04,  1.197368e+03, -1.194236e+03],\n",
      "       ...,\n",
      "       [ 1.494400e+05,  7.306489e+01, -5.349406e+01],\n",
      "       [ 1.497200e+05,  7.440810e+01, -5.281947e+01],\n",
      "       [ 1.500000e+05,  7.587658e+01, -5.219756e+01]]), array([[ 1.000000e+04,  1.255700e+03, -1.252672e+03],\n",
      "       [ 1.028100e+04,  1.239334e+03, -1.234949e+03],\n",
      "       [ 1.056100e+04,  1.213072e+03, -1.209545e+03],\n",
      "       ...,\n",
      "       [ 1.494400e+05,  7.313306e+01, -5.341201e+01],\n",
      "       [ 1.497200e+05,  7.452429e+01, -5.274799e+01],\n",
      "       [ 1.500000e+05,  7.607992e+01, -5.217944e+01]]), array([[ 1.000000e+04,  1.256764e+03, -1.253495e+03],\n",
      "       [ 1.028100e+04,  1.226019e+03, -1.223070e+03],\n",
      "       [ 1.056100e+04,  1.194291e+03, -1.191119e+03],\n",
      "       ...,\n",
      "       [ 1.494400e+05,  8.450795e+01, -5.184227e+01],\n",
      "       [ 1.497200e+05,  8.768556e+01, -5.241881e+01],\n",
      "       [ 1.500000e+05,  9.095556e+01, -5.305461e+01]]), array([[ 1.000000e+04,  1.279764e+03, -1.277013e+03],\n",
      "       [ 1.058100e+04,  1.234949e+03, -1.231845e+03],\n",
      "       [ 1.116200e+04,  1.170967e+03, -1.168537e+03],\n",
      "       ...,\n",
      "       [ 2.988400e+05,  5.665400e+01, -5.624257e+01],\n",
      "       [ 2.994200e+05,  5.658252e+01, -5.617575e+01],\n",
      "       [ 3.000000e+05,  5.649841e+01, -5.609821e+01]]), array([[ 1.000000e+04,  1.279289e+03, -1.276532e+03],\n",
      "       [ 1.058100e+04,  1.234522e+03, -1.231414e+03],\n",
      "       [ 1.116200e+04,  1.170585e+03, -1.168154e+03],\n",
      "       ...,\n",
      "       [ 2.988400e+05,  5.663815e+01, -5.622659e+01],\n",
      "       [ 2.994200e+05,  5.656500e+01, -5.615821e+01],\n",
      "       [ 3.000000e+05,  5.648434e+01, -5.608406e+01]])])]\n",
      "[[1241.903], [1237.8039999999999], [1231.336], [1234.932], [1236.454]]\n"
     ]
    },
    {
     "data": {
      "image/png": "[encoded data removed]",
      "text/plain": [
       "<Figure size 432x288 with 1 Axes>"
      ]
     },
     "metadata": {
      "needs_background": "light"
     },
     "output_type": "display_data"
    },
    {
     "name": "stdout",
     "output_type": "stream",
     "text": [
      "Overlap of Estimated pdf's at 95% confidence: 0.44525124412818345\n"
     ]
    },
    {
     "data": {
      "image/png": "[encoded data removed]",
      "text/plain": [
       "<Figure size 432x288 with 1 Axes>"
      ]
     },
     "metadata": {
      "needs_background": "light"
     },
     "output_type": "display_data"
    },
    {
     "name": "stdout",
     "output_type": "stream",
     "text": [
      "Overlap of concrete pdf's: 0.004909880876262762\n"
     ]
    }
   ],
   "source": [
    "def perform_1d_analysis(parts: List[Part]):\n",
    "    \n",
    "    single_d_parts = limit_deminsionality(parts, [0])\n",
    "    print(single_d_parts[0].signals)\n",
    "    pdfs = [estimate_normal_dist(part.signals, 0.95) for part in single_d_parts]\n",
    "    plot_single_distributions(pdfs, [f\"{part.type} - {part.sub_part_name}\" for part in single_d_parts], f'1D Analysis - Estimated Confidence at 95%')\n",
    "    print(f\"Overlap of Estimated pdf's at 95% confidence: {find_overlap_of_set(pdfs)}\")\n",
    "    \n",
    "    pdfs = [concrete_normal_dist(part.signals) for part in single_d_parts]\n",
    "    plot_single_distributions(pdfs, [f\"{part.type} - {part.sub_part_name}\" for part in single_d_parts], f'1D Analysis - Concrete')\n",
    "    print(f\"Overlap of concrete pdf's: {find_overlap_of_set(pdfs)}\")\n",
    "    \n",
    "    \n",
    "    \n",
    "print(con_parts)\n",
    "perform_1d_analysis(con_parts)\n",
    "#perform_1d_analysis(lid_parts)\n"
   ]
  },
  {
   "cell_type": "code",
   "execution_count": 34,
   "metadata": {},
   "outputs": [],
   "source": [
    "def estimate_overlap_of_set_with_meta_pdf(pdfs: List[NormalDistribution], samples: int, confidence_bound: float) -> float:\n",
    "    \"\"\"Estimates the overlap between a set of distributions.\n",
    "    \n",
    "    The meta pdf is really just the combined pdfs of all the distributions, then we're drawing from that\n",
    "    and seeing how many samples would cause conflicts. How can we prove the distribution we're pulling samples\n",
    "    from is representative of the entire population? Is the estimated confidence good enough? \n",
    "    \n",
    "    Could we potentially randomly sample from each distribution and just see which ones end up overlapping\n",
    "    with the other distributions? TODO (henry): Think about this more \n",
    "    \n",
    "    TODO (henry): This takes so long, like 5's per sample. We need to run 10,000's samples many times. \n",
    "    Need to computationall optimize this.\n",
    "    \"\"\"\n",
    "    \n",
    "    pdf_means = [pdf.mean for pdf in pdfs]    \n",
    "    min_confidence = 1 - confidence_bound\n",
    "    meta_pdf = estimate_normal_dist(pdf_means, 0.95)\n",
    "    print(f\"meta_pdf mean {meta_pdf.mean}\")  # this is a nan and is causing an error when called from estimate_overlap_of_set_with_meta_pdf\n",
    "    meta_samples = np.random.multivariate_normal(meta_pdf.mean, np.diag(meta_pdf.std), samples)\n",
    "    mvn_pdfs = [mvn(mean=pdf.mean, cov=pdf.std) for pdf in pdfs]\n",
    "        \n",
    "    sample_confidences = [\n",
    "        [pdf.cdf(sample) for pdf in mvn_pdfs]\n",
    "        for sample in meta_samples]\n",
    "    \n",
    "    filtered_confidences = [\n",
    "        list(filter(lambda confidence: confidence >= min_confidence, sample_confidence))\n",
    "        for sample_confidence in sample_confidences]\n",
    "\n",
    "    # We're ok with up to 1 match, but every one more than that is a conflict.\n",
    "    collisions = [max(len(confidences)-1, 0) for confidences in filtered_confidences]\n",
    "    return sum(collisions)/(samples*len(pdfs))\n",
    "    "
   ]
  },
  {
   "cell_type": "code",
   "execution_count": 30,
   "metadata": {},
   "outputs": [],
   "source": [
    "def estimate_overlap_of_set_with_individual_pdf(pdfs: List[NormalDistribution], samples: int, confidence_bound: float) -> float:\n",
    "    \"\"\"Estimates the overlap between a set of distributions.\n",
    "    \n",
    "    Pull from the samples from each individual distribution and see how many samples would cause conflicts \n",
    "    with other distributions. \n",
    "    \n",
    "    Does this really represent the range of the entire population?\n",
    "    \n",
    "    TODO (henry): This takes so long, like 5's per sample per pdf. We need to run 10,000's samples many times. \n",
    "    Need to computationall optimize this.\n",
    "    \"\"\"\n",
    "    \n",
    "    min_confidence = 1 - confidence_bound\n",
    "    mvn_pdfs = [mvn(mean=pdf.mean, cov=pdf.std) for pdf in pdfs]\n",
    "    pdf_samples = [\n",
    "        np.random.multivariate_normal(pdf.mean, np.diag(pdf.std), samples) \n",
    "        for pdf in pdfs]\n",
    "    \n",
    "    # flatten the samples\n",
    "    pdf_samples = [sample for pdf_sample in pdf_samples for sample in pdf_sample]\n",
    "    sample_confidences = [\n",
    "        [pdf.cdf(sample) for pdf in mvn_pdfs]\n",
    "        for sample in pdf_samples]\n",
    "    \n",
    "    filtered_confidences = [\n",
    "        list(filter(lambda confidence: confidence >= min_confidence, sample_confidence))\n",
    "        for sample_confidence in sample_confidences]\n",
    "    \n",
    "    # We're ok with up to 1 match, but every one more than that is a conflict.\n",
    "    collisions = [max(len(confidences)-1, 0) for confidences in filtered_confidences]\n",
    "    return sum(collisions)/(samples*len(pdfs))"
   ]
  },
  {
   "cell_type": "code",
   "execution_count": 31,
   "metadata": {},
   "outputs": [],
   "source": [
    "def probability_of_multivariant_point(mu: List[float], cov: List[List[float]], x: List[float]) -> float:\n",
    "    \n",
    "    #https://stats.stackexchange.com/questions/331283/how-to-calculate-the-probability-of-a-data-point-belonging-to-a-multivariate-nor\n",
    "    # Double check this math\n",
    "    m_dist_x = np.dot((x-mu).transpose(),np.linalg.inv(cov))\n",
    "    m_dist_x = np.dot(m_dist_x, (x-mu))\n",
    "    return 1-stats.chi2.cdf(m_dist_x, 3)"
   ]
  },
  {
   "cell_type": "code",
   "execution_count": 32,
   "metadata": {},
   "outputs": [],
   "source": [
    "def estimate_overlap_of_set_with_sample_signals(parts: List[Part], samples: int, meta_pdf_ci: float, part_pdf_ci: float, confidence_bound: float) -> float:\n",
    "    \"\"\" I believe this is the best solution out of all them. We are directly modeling the distribution/state space that\n",
    "    the signals come from, and sampling from that. This directly correlates with the CI and is intuitive. See notion for\n",
    "    more details and defense. \"\"\"\n",
    "    \n",
    "    min_confidence = 1 - confidence_bound\n",
    "    signals = [\n",
    "        signal for part in parts \n",
    "        for signal in part.signals]\n",
    "    \n",
    "    part_pdfs = [estimate_normal_dist(part.signals, part_pdf_ci) for part in parts]\n",
    "    sample_pdf = estimate_normal_dist(signals, meta_pdf_ci)\n",
    "    \n",
    "    state_space_samples = np.random.multivariate_normal(sample_pdf.mean, np.diag(sample_pdf.std), samples)\n",
    "    \n",
    "    # using probability_of_multivariant_point no longer directly equates to false negative rate.\n",
    "    # TODO (henry): Figure out relationship between integrated pdf range and false negative rate\n",
    "    sample_confidences = [\n",
    "        [probability_of_multivariant_point(pdf.mean, np.diag(pdf.std), sample) for pdf in part_pdfs]\n",
    "        for sample in state_space_samples]\n",
    "\n",
    "    filtered_confidences = [\n",
    "        list(filter(lambda confidence: confidence >= min_confidence, sample_confidence))\n",
    "        for sample_confidence in sample_confidences]\n",
    "\n",
    "    # We're ok with up to 1 match, but every one more than that is a conflict.\n",
    "    collisions = [max(len(confidences)-1, 0) for confidences in filtered_confidences]\n",
    "    return sum(collisions)/(samples*len(part_pdfs))"
   ]
  },
  {
   "cell_type": "code",
   "execution_count": 35,
   "metadata": {},
   "outputs": [
    {
     "name": "stdout",
     "output_type": "stream",
     "text": [
      "meta_pdf mean nan\n"
     ]
    },
    {
     "name": "stderr",
     "output_type": "stream",
     "text": [
      "/Users/michael/envs/bsb/lib/python3.8/site-packages/numpy/core/fromnumeric.py:3440: RuntimeWarning: Mean of empty slice.\n",
      "  return _methods._mean(a, axis=axis, dtype=dtype,\n",
      "/Users/michael/envs/bsb/lib/python3.8/site-packages/numpy/core/_methods.py:189: RuntimeWarning: invalid value encountered in double_scalars\n",
      "  ret = ret.dtype.type(ret / rcount)\n",
      "/Users/michael/envs/bsb/lib/python3.8/site-packages/numpy/core/_methods.py:262: RuntimeWarning: Degrees of freedom <= 0 for slice\n",
      "  ret = _var(a, axis=axis, dtype=dtype, out=out, ddof=ddof,\n",
      "/Users/michael/envs/bsb/lib/python3.8/site-packages/numpy/core/_methods.py:222: RuntimeWarning: invalid value encountered in true_divide\n",
      "  arrmean = um.true_divide(arrmean, div, out=arrmean, casting='unsafe',\n",
      "/Users/michael/envs/bsb/lib/python3.8/site-packages/numpy/core/_methods.py:254: RuntimeWarning: invalid value encountered in double_scalars\n",
      "  ret = ret.dtype.type(ret / rcount)\n"
     ]
    },
    {
     "ename": "ValueError",
     "evalue": "Input must be 1- or 2-d.",
     "output_type": "error",
     "traceback": [
      "\u001b[0;31m---------------------------------------------------------------------------\u001b[0m",
      "\u001b[0;31mValueError\u001b[0m                                Traceback (most recent call last)",
      "\u001b[0;32m<ipython-input-35-00ba50ad1fce>\u001b[0m in \u001b[0;36m<module>\u001b[0;34m\u001b[0m\n\u001b[1;32m     15\u001b[0m     \u001b[0mprint\u001b[0m\u001b[0;34m(\u001b[0m\u001b[0;34mf\"Estimated collision rate from sample distributiion: {estimated_sample_collision_rate}\"\u001b[0m\u001b[0;34m)\u001b[0m\u001b[0;34m\u001b[0m\u001b[0;34m\u001b[0m\u001b[0m\n\u001b[1;32m     16\u001b[0m \u001b[0;34m\u001b[0m\u001b[0m\n\u001b[0;32m---> 17\u001b[0;31m \u001b[0mperform_multivariant_analsis\u001b[0m\u001b[0;34m(\u001b[0m\u001b[0mcon_parts\u001b[0m\u001b[0;34m)\u001b[0m\u001b[0;34m\u001b[0m\u001b[0;34m\u001b[0m\u001b[0m\n\u001b[0m",
      "\u001b[0;32m<ipython-input-35-00ba50ad1fce>\u001b[0m in \u001b[0;36mperform_multivariant_analsis\u001b[0;34m(parts)\u001b[0m\n\u001b[1;32m      6\u001b[0m     \u001b[0mpdfs\u001b[0m \u001b[0;34m=\u001b[0m \u001b[0;34m[\u001b[0m\u001b[0mestimate_normal_dist\u001b[0m\u001b[0;34m(\u001b[0m\u001b[0mpart\u001b[0m\u001b[0;34m.\u001b[0m\u001b[0msignals\u001b[0m\u001b[0;34m,\u001b[0m \u001b[0;36m0.95\u001b[0m\u001b[0;34m)\u001b[0m \u001b[0;32mfor\u001b[0m \u001b[0mpart\u001b[0m \u001b[0;32min\u001b[0m \u001b[0mmultivariant_parts\u001b[0m\u001b[0;34m]\u001b[0m\u001b[0;34m\u001b[0m\u001b[0;34m\u001b[0m\u001b[0m\n\u001b[1;32m      7\u001b[0m \u001b[0;34m\u001b[0m\u001b[0m\n\u001b[0;32m----> 8\u001b[0;31m     \u001b[0mestimated_meta_collision_rate\u001b[0m \u001b[0;34m=\u001b[0m \u001b[0mestimate_overlap_of_set_with_meta_pdf\u001b[0m\u001b[0;34m(\u001b[0m\u001b[0mpdfs\u001b[0m\u001b[0;34m,\u001b[0m \u001b[0;36m10\u001b[0m\u001b[0;34m,\u001b[0m \u001b[0;36m0.95\u001b[0m\u001b[0;34m)\u001b[0m\u001b[0;34m\u001b[0m\u001b[0;34m\u001b[0m\u001b[0m\n\u001b[0m\u001b[1;32m      9\u001b[0m     \u001b[0mprint\u001b[0m\u001b[0;34m(\u001b[0m\u001b[0;34mf\"Estimated collision rate from meta pdf: {estimated_meta_collision_rate}\"\u001b[0m\u001b[0;34m)\u001b[0m\u001b[0;34m\u001b[0m\u001b[0;34m\u001b[0m\u001b[0m\n\u001b[1;32m     10\u001b[0m \u001b[0;34m\u001b[0m\u001b[0m\n",
      "\u001b[0;32m<ipython-input-34-c4572f3f1b80>\u001b[0m in \u001b[0;36mestimate_overlap_of_set_with_meta_pdf\u001b[0;34m(pdfs, samples, confidence_bound)\u001b[0m\n\u001b[1;32m     17\u001b[0m     \u001b[0mmeta_pdf\u001b[0m \u001b[0;34m=\u001b[0m \u001b[0mestimate_normal_dist\u001b[0m\u001b[0;34m(\u001b[0m\u001b[0mpdf_means\u001b[0m\u001b[0;34m,\u001b[0m \u001b[0;36m0.95\u001b[0m\u001b[0;34m)\u001b[0m\u001b[0;34m\u001b[0m\u001b[0;34m\u001b[0m\u001b[0m\n\u001b[1;32m     18\u001b[0m     \u001b[0mprint\u001b[0m\u001b[0;34m(\u001b[0m\u001b[0;34mf\"meta_pdf mean {meta_pdf.mean}\"\u001b[0m\u001b[0;34m)\u001b[0m\u001b[0;34m\u001b[0m\u001b[0;34m\u001b[0m\u001b[0m\n\u001b[0;32m---> 19\u001b[0;31m     \u001b[0mmeta_samples\u001b[0m \u001b[0;34m=\u001b[0m \u001b[0mnp\u001b[0m\u001b[0;34m.\u001b[0m\u001b[0mrandom\u001b[0m\u001b[0;34m.\u001b[0m\u001b[0mmultivariate_normal\u001b[0m\u001b[0;34m(\u001b[0m\u001b[0mmeta_pdf\u001b[0m\u001b[0;34m.\u001b[0m\u001b[0mmean\u001b[0m\u001b[0;34m,\u001b[0m \u001b[0mnp\u001b[0m\u001b[0;34m.\u001b[0m\u001b[0mdiag\u001b[0m\u001b[0;34m(\u001b[0m\u001b[0mmeta_pdf\u001b[0m\u001b[0;34m.\u001b[0m\u001b[0mstd\u001b[0m\u001b[0;34m)\u001b[0m\u001b[0;34m,\u001b[0m \u001b[0msamples\u001b[0m\u001b[0;34m)\u001b[0m\u001b[0;34m\u001b[0m\u001b[0;34m\u001b[0m\u001b[0m\n\u001b[0m\u001b[1;32m     20\u001b[0m     \u001b[0mmvn_pdfs\u001b[0m \u001b[0;34m=\u001b[0m \u001b[0;34m[\u001b[0m\u001b[0mmvn\u001b[0m\u001b[0;34m(\u001b[0m\u001b[0mmean\u001b[0m\u001b[0;34m=\u001b[0m\u001b[0mpdf\u001b[0m\u001b[0;34m.\u001b[0m\u001b[0mmean\u001b[0m\u001b[0;34m,\u001b[0m \u001b[0mcov\u001b[0m\u001b[0;34m=\u001b[0m\u001b[0mpdf\u001b[0m\u001b[0;34m.\u001b[0m\u001b[0mstd\u001b[0m\u001b[0;34m)\u001b[0m \u001b[0;32mfor\u001b[0m \u001b[0mpdf\u001b[0m \u001b[0;32min\u001b[0m \u001b[0mpdfs\u001b[0m\u001b[0;34m]\u001b[0m\u001b[0;34m\u001b[0m\u001b[0;34m\u001b[0m\u001b[0m\n\u001b[1;32m     21\u001b[0m \u001b[0;34m\u001b[0m\u001b[0m\n",
      "\u001b[0;32m<__array_function__ internals>\u001b[0m in \u001b[0;36mdiag\u001b[0;34m(*args, **kwargs)\u001b[0m\n",
      "\u001b[0;32m~/envs/bsb/lib/python3.8/site-packages/numpy/lib/twodim_base.py\u001b[0m in \u001b[0;36mdiag\u001b[0;34m(v, k)\u001b[0m\n\u001b[1;32m    301\u001b[0m         \u001b[0;32mreturn\u001b[0m \u001b[0mdiagonal\u001b[0m\u001b[0;34m(\u001b[0m\u001b[0mv\u001b[0m\u001b[0;34m,\u001b[0m \u001b[0mk\u001b[0m\u001b[0;34m)\u001b[0m\u001b[0;34m\u001b[0m\u001b[0;34m\u001b[0m\u001b[0m\n\u001b[1;32m    302\u001b[0m     \u001b[0;32melse\u001b[0m\u001b[0;34m:\u001b[0m\u001b[0;34m\u001b[0m\u001b[0;34m\u001b[0m\u001b[0m\n\u001b[0;32m--> 303\u001b[0;31m         \u001b[0;32mraise\u001b[0m \u001b[0mValueError\u001b[0m\u001b[0;34m(\u001b[0m\u001b[0;34m\"Input must be 1- or 2-d.\"\u001b[0m\u001b[0;34m)\u001b[0m\u001b[0;34m\u001b[0m\u001b[0;34m\u001b[0m\u001b[0m\n\u001b[0m\u001b[1;32m    304\u001b[0m \u001b[0;34m\u001b[0m\u001b[0m\n\u001b[1;32m    305\u001b[0m \u001b[0;34m\u001b[0m\u001b[0m\n",
      "\u001b[0;31mValueError\u001b[0m: Input must be 1- or 2-d."
     ]
    }
   ],
   "source": [
    "\n",
    "def perform_multivariant_analsis(parts: List[Part]):\n",
    "    \n",
    "    # TOOD (henry): Abstract this out to run many times and plot CI until convergence.\n",
    "    \n",
    "    multivariant_parts = limit_deminsionality(parts, list(range(1)))\n",
    "    pdfs = [estimate_normal_dist(part.signals, 0.95) for part in multivariant_parts]\n",
    "    \n",
    "    estimated_meta_collision_rate = estimate_overlap_of_set_with_meta_pdf(pdfs, 10, 0.95)\n",
    "    print(f\"Estimated collision rate from meta pdf: {estimated_meta_collision_rate}\")\n",
    "    \n",
    "    estimated_set_collision_rate = estimate_overlap_of_set_with_individual_pdf(pdfs, 10, 0.95)\n",
    "    print(f\"Estimated collision rate from set of individual pdfs: {estimated_set_collision_rate}\")\n",
    "    \n",
    "    estimated_sample_collision_rate = estimate_overlap_of_set_with_sample_signals(multivariant_parts, 10, 0.95)\n",
    "    print(f\"Estimated collision rate from sample distributiion: {estimated_sample_collision_rate}\")\n",
    "\n",
    "perform_multivariant_analsis(con_parts)"
   ]
  },
  {
   "cell_type": "code",
   "execution_count": 36,
   "metadata": {},
   "outputs": [],
   "source": [
    "def compute_normal_ci(x: List[float], confidence: float) -> Tuple[float, float]:\n",
    "    \"\"\"Computes the confidence interval for a given confidence bound.\"\"\"\n",
    "    \n",
    "    if sum(x) == 0: return (0, 0)\n",
    "    return stats.norm.interval(confidence, loc=np.mean(x), scale=np.std(x))"
   ]
  },
  {
   "cell_type": "code",
   "execution_count": 37,
   "metadata": {},
   "outputs": [
    {
     "ename": "ValueError",
     "evalue": "Input must be 1- or 2-d.",
     "output_type": "error",
     "traceback": [
      "\u001b[0;31m---------------------------------------------------------------------------\u001b[0m",
      "\u001b[0;31mValueError\u001b[0m                                Traceback (most recent call last)",
      "\u001b[0;32m<ipython-input-37-b10e8739978f>\u001b[0m in \u001b[0;36m<module>\u001b[0;34m\u001b[0m\n\u001b[1;32m     20\u001b[0m \u001b[0;34m\u001b[0m\u001b[0m\n\u001b[1;32m     21\u001b[0m \u001b[0;34m\u001b[0m\u001b[0m\n\u001b[0;32m---> 22\u001b[0;31m \u001b[0mupper_collision_rate\u001b[0m \u001b[0;34m=\u001b[0m \u001b[0mrun_meta_markov_multivariant_analysis\u001b[0m\u001b[0;34m(\u001b[0m\u001b[0mcon_parts\u001b[0m\u001b[0;34m,\u001b[0m \u001b[0;36m5\u001b[0m\u001b[0;34m,\u001b[0m \u001b[0;36m100\u001b[0m\u001b[0;34m,\u001b[0m \u001b[0;36m0.99\u001b[0m\u001b[0;34m,\u001b[0m \u001b[0;36m0.99\u001b[0m\u001b[0;34m,\u001b[0m \u001b[0;36m0.99\u001b[0m\u001b[0;34m)\u001b[0m\u001b[0;34m\u001b[0m\u001b[0;34m\u001b[0m\u001b[0m\n\u001b[0m\u001b[1;32m     23\u001b[0m \u001b[0mprint\u001b[0m\u001b[0;34m(\u001b[0m\u001b[0;34mf\"Upper collision rate: {upper_collision_rate * 100}%\"\u001b[0m\u001b[0;34m)\u001b[0m\u001b[0;34m\u001b[0m\u001b[0;34m\u001b[0m\u001b[0m\n",
      "\u001b[0;32m<ipython-input-37-b10e8739978f>\u001b[0m in \u001b[0;36mrun_meta_markov_multivariant_analysis\u001b[0;34m(parts, part_dimensionality, samples, meta_pdf_ci, part_pdf_ci, confidence_bound)\u001b[0m\n\u001b[1;32m      9\u001b[0m \u001b[0;34m\u001b[0m\u001b[0m\n\u001b[1;32m     10\u001b[0m         \u001b[0mmultivariant_parts\u001b[0m \u001b[0;34m=\u001b[0m \u001b[0mlimit_deminsionality\u001b[0m\u001b[0;34m(\u001b[0m\u001b[0mparts\u001b[0m\u001b[0;34m,\u001b[0m \u001b[0mlist\u001b[0m\u001b[0;34m(\u001b[0m\u001b[0mrange\u001b[0m\u001b[0;34m(\u001b[0m\u001b[0mpart_dimensionality\u001b[0m\u001b[0;34m)\u001b[0m\u001b[0;34m)\u001b[0m\u001b[0;34m)\u001b[0m\u001b[0;34m\u001b[0m\u001b[0;34m\u001b[0m\u001b[0m\n\u001b[0;32m---> 11\u001b[0;31m         \u001b[0mcollision_rate\u001b[0m \u001b[0;34m=\u001b[0m \u001b[0mestimate_overlap_of_set_with_sample_signals\u001b[0m\u001b[0;34m(\u001b[0m\u001b[0mmultivariant_parts\u001b[0m\u001b[0;34m,\u001b[0m \u001b[0msamples\u001b[0m\u001b[0;34m,\u001b[0m \u001b[0mmeta_pdf_ci\u001b[0m\u001b[0;34m,\u001b[0m \u001b[0mpart_pdf_ci\u001b[0m\u001b[0;34m,\u001b[0m \u001b[0mconfidence_bound\u001b[0m\u001b[0;34m)\u001b[0m\u001b[0;34m\u001b[0m\u001b[0;34m\u001b[0m\u001b[0m\n\u001b[0m\u001b[1;32m     12\u001b[0m \u001b[0;34m\u001b[0m\u001b[0m\n\u001b[1;32m     13\u001b[0m         \u001b[0mcollisions\u001b[0m\u001b[0;34m.\u001b[0m\u001b[0mappend\u001b[0m\u001b[0;34m(\u001b[0m\u001b[0mcollision_rate\u001b[0m\u001b[0;34m)\u001b[0m\u001b[0;34m\u001b[0m\u001b[0;34m\u001b[0m\u001b[0m\n",
      "\u001b[0;32m<ipython-input-32-fe946773a779>\u001b[0m in \u001b[0;36mestimate_overlap_of_set_with_sample_signals\u001b[0;34m(parts, samples, meta_pdf_ci, part_pdf_ci, confidence_bound)\u001b[0m\n\u001b[1;32m     12\u001b[0m     \u001b[0msample_pdf\u001b[0m \u001b[0;34m=\u001b[0m \u001b[0mestimate_normal_dist\u001b[0m\u001b[0;34m(\u001b[0m\u001b[0msignals\u001b[0m\u001b[0;34m,\u001b[0m \u001b[0mmeta_pdf_ci\u001b[0m\u001b[0;34m)\u001b[0m\u001b[0;34m\u001b[0m\u001b[0;34m\u001b[0m\u001b[0m\n\u001b[1;32m     13\u001b[0m \u001b[0;34m\u001b[0m\u001b[0m\n\u001b[0;32m---> 14\u001b[0;31m     \u001b[0mstate_space_samples\u001b[0m \u001b[0;34m=\u001b[0m \u001b[0mnp\u001b[0m\u001b[0;34m.\u001b[0m\u001b[0mrandom\u001b[0m\u001b[0;34m.\u001b[0m\u001b[0mmultivariate_normal\u001b[0m\u001b[0;34m(\u001b[0m\u001b[0msample_pdf\u001b[0m\u001b[0;34m.\u001b[0m\u001b[0mmean\u001b[0m\u001b[0;34m,\u001b[0m \u001b[0mnp\u001b[0m\u001b[0;34m.\u001b[0m\u001b[0mdiag\u001b[0m\u001b[0;34m(\u001b[0m\u001b[0msample_pdf\u001b[0m\u001b[0;34m.\u001b[0m\u001b[0mstd\u001b[0m\u001b[0;34m)\u001b[0m\u001b[0;34m,\u001b[0m \u001b[0msamples\u001b[0m\u001b[0;34m)\u001b[0m\u001b[0;34m\u001b[0m\u001b[0;34m\u001b[0m\u001b[0m\n\u001b[0m\u001b[1;32m     15\u001b[0m \u001b[0;34m\u001b[0m\u001b[0m\n\u001b[1;32m     16\u001b[0m     \u001b[0;31m# using probability_of_multivariant_point no longer directly equates to false negative rate.\u001b[0m\u001b[0;34m\u001b[0m\u001b[0;34m\u001b[0m\u001b[0;34m\u001b[0m\u001b[0m\n",
      "\u001b[0;32m<__array_function__ internals>\u001b[0m in \u001b[0;36mdiag\u001b[0;34m(*args, **kwargs)\u001b[0m\n",
      "\u001b[0;32m~/envs/bsb/lib/python3.8/site-packages/numpy/lib/twodim_base.py\u001b[0m in \u001b[0;36mdiag\u001b[0;34m(v, k)\u001b[0m\n\u001b[1;32m    301\u001b[0m         \u001b[0;32mreturn\u001b[0m \u001b[0mdiagonal\u001b[0m\u001b[0;34m(\u001b[0m\u001b[0mv\u001b[0m\u001b[0;34m,\u001b[0m \u001b[0mk\u001b[0m\u001b[0;34m)\u001b[0m\u001b[0;34m\u001b[0m\u001b[0;34m\u001b[0m\u001b[0m\n\u001b[1;32m    302\u001b[0m     \u001b[0;32melse\u001b[0m\u001b[0;34m:\u001b[0m\u001b[0;34m\u001b[0m\u001b[0;34m\u001b[0m\u001b[0m\n\u001b[0;32m--> 303\u001b[0;31m         \u001b[0;32mraise\u001b[0m \u001b[0mValueError\u001b[0m\u001b[0;34m(\u001b[0m\u001b[0;34m\"Input must be 1- or 2-d.\"\u001b[0m\u001b[0;34m)\u001b[0m\u001b[0;34m\u001b[0m\u001b[0;34m\u001b[0m\u001b[0m\n\u001b[0m\u001b[1;32m    304\u001b[0m \u001b[0;34m\u001b[0m\u001b[0m\n\u001b[1;32m    305\u001b[0m \u001b[0;34m\u001b[0m\u001b[0m\n",
      "\u001b[0;31mValueError\u001b[0m: Input must be 1- or 2-d."
     ]
    }
   ],
   "source": [
    "def run_meta_markov_multivariant_analysis(parts: List[Part], part_dimensionality: int, samples: int, meta_pdf_ci: float, part_pdf_ci: float, confidence_bound: float):\n",
    "    \"\"\" Runs the Monte Carlo Approximation of multivariant collision using the signal sample meta\n",
    "    pdf methodoly. The Monte Carlo Approximation will continually be run until the confidence interval\n",
    "    converges and the average of the previous 10 runs is not smaller than the average of the previous 100 runs.\"\"\"\n",
    "    \n",
    "    collisions = []\n",
    "    confidence_ranges = []\n",
    "    while True:\n",
    "        \n",
    "        multivariant_parts = limit_deminsionality(parts, list(range(part_dimensionality)))\n",
    "        collision_rate = estimate_overlap_of_set_with_sample_signals(multivariant_parts, samples, meta_pdf_ci, part_pdf_ci, confidence_bound)\n",
    "        \n",
    "        collisions.append(collision_rate)\n",
    "        lower, upper = compute_normal_ci(collisions, 0.95)\n",
    "        confidence_ranges.append(upper - lower)\n",
    "        print(f\"Estimated collision rate from sample distributiion has range: {upper - lower}\")\n",
    "        \n",
    "        if len(confidence_ranges) > 100 and np.mean(confidence_ranges[-10:]) >= np.mean(confidence_ranges[-100:]):\n",
    "            return upper\n",
    "    \n",
    "\n",
    "upper_collision_rate = run_meta_markov_multivariant_analysis(con_parts, 5, 100, 0.99, 0.99, 0.99)\n",
    "print(f\"Upper collision rate: {upper_collision_rate * 100}%\")\n"
   ]
  }
 ],
 "metadata": {
  "kernelspec": {
   "display_name": "Python 3.8.13 ('bsb')",
   "language": "python",
   "name": "python3"
  },
  "language_info": {
   "codemirror_mode": {
    "name": "ipython",
    "version": 3
   },
   "file_extension": ".py",
   "mimetype": "text/x-python",
   "name": "python",
   "nbconvert_exporter": "python",
   "pygments_lexer": "ipython3",
   "version": "3.8.13"
  },
  "orig_nbformat": 4,
  "vscode": {
   "interpreter": {
    "hash": "5ec1b2500b0c8d7f034a6f46c89c3ff558f8f66e7d744fc93e1f18a49bf1a8da"
   }
  }
 },
 "nbformat": 4,
 "nbformat_minor": 2
}
