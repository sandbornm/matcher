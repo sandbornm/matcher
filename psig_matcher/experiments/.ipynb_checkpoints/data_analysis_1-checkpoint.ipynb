{
 "cells": [
  {
   "cell_type": "markdown",
   "metadata": {},
   "source": [
    "# Experiment 1: Part Signal PDF Convergence\n",
    "\n",
    "This notebook will contain gathered results from experiment 1."
   ]
  },
  {
   "cell_type": "markdown",
   "metadata": {},
   "source": [
    "# Part Signal PDF convergence\n",
    "## Methodology \n",
    "For each part we have data for, run the function to simulate the PDF convergence, 100 times. Randomly shuffle the part signals between each run, otherwise it would yeild the same results each time. Track the part, part type, how many signals it needed until convergence, and the relative variance. \n",
    "## Deliverables\n",
    "Associated graphs for each part run showing the the convergence of the CI\n",
    "Graphs and analysis for the combined average of each part type. What does it tell us? What can we conclude about the part type and why it is behaving that way?\n",
    "Graphs and analysis comparing the averages of the different types. How different are they? How can we explain this? Does this validate our assumptions? "
   ]
  },
  {
   "cell_type": "markdown",
   "metadata": {},
   "source": [
    "## Source Code\n",
    "\n",
    "The below sections contains all of our source codes."
   ]
  },
  {
   "cell_type": "code",
   "execution_count": 1,
   "metadata": {},
   "outputs": [],
   "source": [
    "import mlflow\n",
    "import pandas as pd\n",
    "import numpy as np\n",
    "import matplotlib.pyplot as plt"
   ]
  },
  {
   "cell_type": "code",
   "execution_count": 2,
   "metadata": {},
   "outputs": [],
   "source": [
    "\n",
    "import os \n",
    "\n",
    "user_path = '~/matcher'  # CHANGE THIS LINE AS NEEDED FOR YOUR ENVIRONMENT\n",
    "os.chdir(os.path.expanduser(user_path))\n"
   ]
  },
  {
   "cell_type": "code",
   "execution_count": 3,
   "metadata": {},
   "outputs": [],
   "source": [
    "def get_metrics_series(mlruns_path: str, experiment_id: str, run_id: str, metric_name: str) -> list:\n",
    "    \"\"\"Get a series of metric values for a given metric name.\"\"\"\n",
    "    with open(f'{mlruns_path}/{experiment_id}/{run_id}/metrics/{metric_name}') as f:\n",
    "        file_lines = f.readlines()\n",
    "    return [float(line.split()[1]) for line in file_lines]\n"
   ]
  },
  {
   "cell_type": "code",
   "execution_count": 12,
   "metadata": {},
   "outputs": [
    {
     "name": "stdout",
     "output_type": "stream",
     "text": [
      "0                                                [123.0]\n",
      "1                                                [117.0]\n",
      "2                                                [101.0]\n",
      "3                                                [101.0]\n",
      "4                                                [102.0]\n",
      "                             ...                        \n",
      "595    [112.0, 153.0, 111.0, 119.0, 102.0, 104.0, 144...\n",
      "596    [162.0, 112.0, 115.0, 103.0, 114.0, 101.0, 352...\n",
      "597    [101.0, 231.0, 116.0, 122.0, 138.0, 102.0, 135...\n",
      "598    [101.0, 133.0, 104.0, 115.0, 106.0, 116.0, 107...\n",
      "599    [105.0, 124.0, 260.0, 159.0, 194.0, 101.0, 101...\n",
      "Name: num_samples_for_convergence, Length: 600, dtype: object\n"
     ]
    }
   ],
   "source": [
    "experiment_id = mlflow.get_experiment_by_name(name='Experiment 1').experiment_id\n",
    "runs_df = mlflow.search_runs(experiment_ids=experiment_id, max_results=10_000)\n",
    "runs_df['num_samples_for_convergence'] = runs_df.apply(\n",
    "    lambda row: get_metrics_series(\n",
    "            mlruns_path='mlruns', \n",
    "            experiment_id=experiment_id, \n",
    "            run_id=row['run_id'], \n",
    "            metric_name='num_samples_for_convergence'), \n",
    "    axis=1)\n",
    "\n",
    "print(runs_df['num_samples_for_convergence'])"
   ]
  },
  {
   "cell_type": "code",
   "execution_count": 17,
   "metadata": {},
   "outputs": [
    {
     "ename": "KeyError",
     "evalue": "'False: boolean label can not be used without a boolean index'",
     "output_type": "error",
     "traceback": [
      "\u001b[1;31m---------------------------------------------------------------------------\u001b[0m",
      "\u001b[1;31mKeyError\u001b[0m                                  Traceback (most recent call last)",
      "Cell \u001b[1;32mIn[17], line 1\u001b[0m\n\u001b[1;32m----> 1\u001b[0m runs_df[\u001b[38;5;124m'\u001b[39m\u001b[38;5;124mnum_samples_for_convergence\u001b[39m\u001b[38;5;124m'\u001b[39m] \u001b[38;5;241m=\u001b[39m \u001b[43mruns_df\u001b[49m\u001b[38;5;241;43m.\u001b[39;49m\u001b[43mloc\u001b[49m\u001b[43m[\u001b[49m\u001b[38;5;28;43mlen\u001b[39;49m\u001b[43m(\u001b[49m\u001b[43mruns_df\u001b[49m\u001b[43m[\u001b[49m\u001b[38;5;124;43m'\u001b[39;49m\u001b[38;5;124;43mnum_samples_for_convergence\u001b[39;49m\u001b[38;5;124;43m'\u001b[39;49m\u001b[43m]\u001b[49m\u001b[43m)\u001b[49m\u001b[43m \u001b[49m\u001b[38;5;241;43m==\u001b[39;49m\u001b[43m \u001b[49m\u001b[38;5;241;43m100\u001b[39;49m\u001b[43m]\u001b[49m\n\u001b[0;32m      2\u001b[0m \u001b[38;5;28mprint\u001b[39m(runs_df[\u001b[38;5;124m'\u001b[39m\u001b[38;5;124mnum_samples_for_convergence\u001b[39m\u001b[38;5;124m'\u001b[39m])\n",
      "File \u001b[1;32m~\\AppData\\Local\\Programs\\Python\\Python311\\Lib\\site-packages\\pandas\\core\\indexing.py:1073\u001b[0m, in \u001b[0;36m_LocationIndexer.__getitem__\u001b[1;34m(self, key)\u001b[0m\n\u001b[0;32m   1070\u001b[0m axis \u001b[38;5;241m=\u001b[39m \u001b[38;5;28mself\u001b[39m\u001b[38;5;241m.\u001b[39maxis \u001b[38;5;129;01mor\u001b[39;00m \u001b[38;5;241m0\u001b[39m\n\u001b[0;32m   1072\u001b[0m maybe_callable \u001b[38;5;241m=\u001b[39m com\u001b[38;5;241m.\u001b[39mapply_if_callable(key, \u001b[38;5;28mself\u001b[39m\u001b[38;5;241m.\u001b[39mobj)\n\u001b[1;32m-> 1073\u001b[0m \u001b[38;5;28;01mreturn\u001b[39;00m \u001b[38;5;28;43mself\u001b[39;49m\u001b[38;5;241;43m.\u001b[39;49m\u001b[43m_getitem_axis\u001b[49m\u001b[43m(\u001b[49m\u001b[43mmaybe_callable\u001b[49m\u001b[43m,\u001b[49m\u001b[43m \u001b[49m\u001b[43maxis\u001b[49m\u001b[38;5;241;43m=\u001b[39;49m\u001b[43maxis\u001b[49m\u001b[43m)\u001b[49m\n",
      "File \u001b[1;32m~\\AppData\\Local\\Programs\\Python\\Python311\\Lib\\site-packages\\pandas\\core\\indexing.py:1311\u001b[0m, in \u001b[0;36m_LocIndexer._getitem_axis\u001b[1;34m(self, key, axis)\u001b[0m\n\u001b[0;32m   1308\u001b[0m         \u001b[38;5;28;01mreturn\u001b[39;00m \u001b[38;5;28mself\u001b[39m\u001b[38;5;241m.\u001b[39mobj\u001b[38;5;241m.\u001b[39miloc[\u001b[38;5;28mtuple\u001b[39m(indexer)]\n\u001b[0;32m   1310\u001b[0m \u001b[38;5;66;03m# fall thru to straight lookup\u001b[39;00m\n\u001b[1;32m-> 1311\u001b[0m \u001b[38;5;28;43mself\u001b[39;49m\u001b[38;5;241;43m.\u001b[39;49m\u001b[43m_validate_key\u001b[49m\u001b[43m(\u001b[49m\u001b[43mkey\u001b[49m\u001b[43m,\u001b[49m\u001b[43m \u001b[49m\u001b[43maxis\u001b[49m\u001b[43m)\u001b[49m\n\u001b[0;32m   1312\u001b[0m \u001b[38;5;28;01mreturn\u001b[39;00m \u001b[38;5;28mself\u001b[39m\u001b[38;5;241m.\u001b[39m_get_label(key, axis\u001b[38;5;241m=\u001b[39maxis)\n",
      "File \u001b[1;32m~\\AppData\\Local\\Programs\\Python\\Python311\\Lib\\site-packages\\pandas\\core\\indexing.py:1118\u001b[0m, in \u001b[0;36m_LocIndexer._validate_key\u001b[1;34m(self, key, axis)\u001b[0m\n\u001b[0;32m   1108\u001b[0m \u001b[38;5;129m@doc\u001b[39m(_LocationIndexer\u001b[38;5;241m.\u001b[39m_validate_key)\n\u001b[0;32m   1109\u001b[0m \u001b[38;5;28;01mdef\u001b[39;00m \u001b[38;5;21m_validate_key\u001b[39m(\u001b[38;5;28mself\u001b[39m, key, axis: \u001b[38;5;28mint\u001b[39m):\n\u001b[0;32m   1110\u001b[0m     \u001b[38;5;66;03m# valid for a collection of labels (we check their presence later)\u001b[39;00m\n\u001b[0;32m   1111\u001b[0m     \u001b[38;5;66;03m# slice of labels (where start-end in labels)\u001b[39;00m\n\u001b[0;32m   1112\u001b[0m     \u001b[38;5;66;03m# slice of integers (only if in the labels)\u001b[39;00m\n\u001b[0;32m   1113\u001b[0m     \u001b[38;5;66;03m# boolean not in slice and with boolean index\u001b[39;00m\n\u001b[0;32m   1114\u001b[0m     \u001b[38;5;28;01mif\u001b[39;00m \u001b[38;5;28misinstance\u001b[39m(key, \u001b[38;5;28mbool\u001b[39m) \u001b[38;5;129;01mand\u001b[39;00m \u001b[38;5;129;01mnot\u001b[39;00m (\n\u001b[0;32m   1115\u001b[0m         is_bool_dtype(\u001b[38;5;28mself\u001b[39m\u001b[38;5;241m.\u001b[39mobj\u001b[38;5;241m.\u001b[39m_get_axis(axis))\n\u001b[0;32m   1116\u001b[0m         \u001b[38;5;129;01mor\u001b[39;00m \u001b[38;5;28mself\u001b[39m\u001b[38;5;241m.\u001b[39mobj\u001b[38;5;241m.\u001b[39m_get_axis(axis)\u001b[38;5;241m.\u001b[39mdtype\u001b[38;5;241m.\u001b[39mname \u001b[38;5;241m==\u001b[39m \u001b[38;5;124m\"\u001b[39m\u001b[38;5;124mboolean\u001b[39m\u001b[38;5;124m\"\u001b[39m\n\u001b[0;32m   1117\u001b[0m     ):\n\u001b[1;32m-> 1118\u001b[0m         \u001b[38;5;28;01mraise\u001b[39;00m \u001b[38;5;167;01mKeyError\u001b[39;00m(\n\u001b[0;32m   1119\u001b[0m             \u001b[38;5;124mf\u001b[39m\u001b[38;5;124m\"\u001b[39m\u001b[38;5;132;01m{\u001b[39;00mkey\u001b[38;5;132;01m}\u001b[39;00m\u001b[38;5;124m: boolean label can not be used without a boolean index\u001b[39m\u001b[38;5;124m\"\u001b[39m\n\u001b[0;32m   1120\u001b[0m         )\n\u001b[0;32m   1122\u001b[0m     \u001b[38;5;28;01mif\u001b[39;00m \u001b[38;5;28misinstance\u001b[39m(key, \u001b[38;5;28mslice\u001b[39m) \u001b[38;5;129;01mand\u001b[39;00m (\n\u001b[0;32m   1123\u001b[0m         \u001b[38;5;28misinstance\u001b[39m(key\u001b[38;5;241m.\u001b[39mstart, \u001b[38;5;28mbool\u001b[39m) \u001b[38;5;129;01mor\u001b[39;00m \u001b[38;5;28misinstance\u001b[39m(key\u001b[38;5;241m.\u001b[39mstop, \u001b[38;5;28mbool\u001b[39m)\n\u001b[0;32m   1124\u001b[0m     ):\n\u001b[0;32m   1125\u001b[0m         \u001b[38;5;28;01mraise\u001b[39;00m \u001b[38;5;167;01mTypeError\u001b[39;00m(\u001b[38;5;124mf\u001b[39m\u001b[38;5;124m\"\u001b[39m\u001b[38;5;132;01m{\u001b[39;00mkey\u001b[38;5;132;01m}\u001b[39;00m\u001b[38;5;124m: boolean values can not be used in a slice\u001b[39m\u001b[38;5;124m\"\u001b[39m)\n",
      "\u001b[1;31mKeyError\u001b[0m: 'False: boolean label can not be used without a boolean index'"
     ]
    }
   ],
   "source": [
    "runs_df['num_samples_for_convergence'] = runs_df.loc[len(runs_df['num_samples_for_convergence']) == 100]\n",
    "print(runs_df['num_samples_for_convergence'])"
   ]
  },
  {
   "cell_type": "code",
   "execution_count": 14,
   "metadata": {},
   "outputs": [
    {
     "ename": "KeyError",
     "evalue": "'params.confidence_bound'",
     "output_type": "error",
     "traceback": [
      "\u001b[1;31m---------------------------------------------------------------------------\u001b[0m",
      "\u001b[1;31mKeyError\u001b[0m                                  Traceback (most recent call last)",
      "File \u001b[1;32m~\\AppData\\Local\\Programs\\Python\\Python311\\Lib\\site-packages\\pandas\\core\\indexes\\base.py:3803\u001b[0m, in \u001b[0;36mIndex.get_loc\u001b[1;34m(self, key, method, tolerance)\u001b[0m\n\u001b[0;32m   3802\u001b[0m \u001b[38;5;28;01mtry\u001b[39;00m:\n\u001b[1;32m-> 3803\u001b[0m     \u001b[38;5;28;01mreturn\u001b[39;00m \u001b[38;5;28;43mself\u001b[39;49m\u001b[38;5;241;43m.\u001b[39;49m\u001b[43m_engine\u001b[49m\u001b[38;5;241;43m.\u001b[39;49m\u001b[43mget_loc\u001b[49m\u001b[43m(\u001b[49m\u001b[43mcasted_key\u001b[49m\u001b[43m)\u001b[49m\n\u001b[0;32m   3804\u001b[0m \u001b[38;5;28;01mexcept\u001b[39;00m \u001b[38;5;167;01mKeyError\u001b[39;00m \u001b[38;5;28;01mas\u001b[39;00m err:\n",
      "File \u001b[1;32m~\\AppData\\Local\\Programs\\Python\\Python311\\Lib\\site-packages\\pandas\\_libs\\index.pyx:138\u001b[0m, in \u001b[0;36mpandas._libs.index.IndexEngine.get_loc\u001b[1;34m()\u001b[0m\n",
      "File \u001b[1;32m~\\AppData\\Local\\Programs\\Python\\Python311\\Lib\\site-packages\\pandas\\_libs\\index.pyx:165\u001b[0m, in \u001b[0;36mpandas._libs.index.IndexEngine.get_loc\u001b[1;34m()\u001b[0m\n",
      "File \u001b[1;32mpandas\\_libs\\hashtable_class_helper.pxi:5745\u001b[0m, in \u001b[0;36mpandas._libs.hashtable.PyObjectHashTable.get_item\u001b[1;34m()\u001b[0m\n",
      "File \u001b[1;32mpandas\\_libs\\hashtable_class_helper.pxi:5753\u001b[0m, in \u001b[0;36mpandas._libs.hashtable.PyObjectHashTable.get_item\u001b[1;34m()\u001b[0m\n",
      "\u001b[1;31mKeyError\u001b[0m: 'params.confidence_bound'",
      "\nThe above exception was the direct cause of the following exception:\n",
      "\u001b[1;31mKeyError\u001b[0m                                  Traceback (most recent call last)",
      "Cell \u001b[1;32mIn[14], line 6\u001b[0m\n\u001b[0;32m      1\u001b[0m mlflow\u001b[38;5;241m.\u001b[39mend_run()\n\u001b[0;32m      2\u001b[0m mlflow\u001b[38;5;241m.\u001b[39mstart_run()\n\u001b[0;32m      5\u001b[0m meta_pdf_ci_analysis_df \u001b[38;5;241m=\u001b[39m runs_df\u001b[38;5;241m.\u001b[39mloc[\n\u001b[1;32m----> 6\u001b[0m     (\u001b[43mruns_df\u001b[49m\u001b[43m[\u001b[49m\u001b[38;5;124;43m'\u001b[39;49m\u001b[38;5;124;43mparams.confidence_bound\u001b[39;49m\u001b[38;5;124;43m'\u001b[39;49m\u001b[43m]\u001b[49m \u001b[38;5;241m==\u001b[39m base_confidence_bound) \u001b[38;5;241m&\u001b[39m\n\u001b[0;32m      7\u001b[0m     (runs_df[\u001b[38;5;124m'\u001b[39m\u001b[38;5;124mparams.part_pdf_ci\u001b[39m\u001b[38;5;124m'\u001b[39m] \u001b[38;5;241m==\u001b[39m base_part_pdf_ci)]\n\u001b[0;32m      8\u001b[0m part_pdf_ci_analysis_df \u001b[38;5;241m=\u001b[39m runs_df\u001b[38;5;241m.\u001b[39mloc[\n\u001b[0;32m      9\u001b[0m     (runs_df[\u001b[38;5;124m'\u001b[39m\u001b[38;5;124mparams.confidence_bound\u001b[39m\u001b[38;5;124m'\u001b[39m] \u001b[38;5;241m==\u001b[39m base_confidence_bound) \u001b[38;5;241m&\u001b[39m\n\u001b[0;32m     10\u001b[0m     (runs_df[\u001b[38;5;124m'\u001b[39m\u001b[38;5;124mparams.meta_pdf_ci\u001b[39m\u001b[38;5;124m'\u001b[39m] \u001b[38;5;241m==\u001b[39m base_meta_pdf_ci)]\n\u001b[0;32m     11\u001b[0m confidence_bound_analysis_df \u001b[38;5;241m=\u001b[39m runs_df\u001b[38;5;241m.\u001b[39mloc[\n\u001b[0;32m     12\u001b[0m     (runs_df[\u001b[38;5;124m'\u001b[39m\u001b[38;5;124mparams.meta_pdf_ci\u001b[39m\u001b[38;5;124m'\u001b[39m] \u001b[38;5;241m==\u001b[39m base_meta_pdf_ci) \u001b[38;5;241m&\u001b[39m\n\u001b[0;32m     13\u001b[0m     (runs_df[\u001b[38;5;124m'\u001b[39m\u001b[38;5;124mparams.part_pdf_ci\u001b[39m\u001b[38;5;124m'\u001b[39m] \u001b[38;5;241m==\u001b[39m base_part_pdf_ci)]\n",
      "File \u001b[1;32m~\\AppData\\Local\\Programs\\Python\\Python311\\Lib\\site-packages\\pandas\\core\\frame.py:3804\u001b[0m, in \u001b[0;36mDataFrame.__getitem__\u001b[1;34m(self, key)\u001b[0m\n\u001b[0;32m   3802\u001b[0m \u001b[38;5;28;01mif\u001b[39;00m \u001b[38;5;28mself\u001b[39m\u001b[38;5;241m.\u001b[39mcolumns\u001b[38;5;241m.\u001b[39mnlevels \u001b[38;5;241m>\u001b[39m \u001b[38;5;241m1\u001b[39m:\n\u001b[0;32m   3803\u001b[0m     \u001b[38;5;28;01mreturn\u001b[39;00m \u001b[38;5;28mself\u001b[39m\u001b[38;5;241m.\u001b[39m_getitem_multilevel(key)\n\u001b[1;32m-> 3804\u001b[0m indexer \u001b[38;5;241m=\u001b[39m \u001b[38;5;28;43mself\u001b[39;49m\u001b[38;5;241;43m.\u001b[39;49m\u001b[43mcolumns\u001b[49m\u001b[38;5;241;43m.\u001b[39;49m\u001b[43mget_loc\u001b[49m\u001b[43m(\u001b[49m\u001b[43mkey\u001b[49m\u001b[43m)\u001b[49m\n\u001b[0;32m   3805\u001b[0m \u001b[38;5;28;01mif\u001b[39;00m is_integer(indexer):\n\u001b[0;32m   3806\u001b[0m     indexer \u001b[38;5;241m=\u001b[39m [indexer]\n",
      "File \u001b[1;32m~\\AppData\\Local\\Programs\\Python\\Python311\\Lib\\site-packages\\pandas\\core\\indexes\\base.py:3805\u001b[0m, in \u001b[0;36mIndex.get_loc\u001b[1;34m(self, key, method, tolerance)\u001b[0m\n\u001b[0;32m   3803\u001b[0m     \u001b[38;5;28;01mreturn\u001b[39;00m \u001b[38;5;28mself\u001b[39m\u001b[38;5;241m.\u001b[39m_engine\u001b[38;5;241m.\u001b[39mget_loc(casted_key)\n\u001b[0;32m   3804\u001b[0m \u001b[38;5;28;01mexcept\u001b[39;00m \u001b[38;5;167;01mKeyError\u001b[39;00m \u001b[38;5;28;01mas\u001b[39;00m err:\n\u001b[1;32m-> 3805\u001b[0m     \u001b[38;5;28;01mraise\u001b[39;00m \u001b[38;5;167;01mKeyError\u001b[39;00m(key) \u001b[38;5;28;01mfrom\u001b[39;00m \u001b[38;5;21;01merr\u001b[39;00m\n\u001b[0;32m   3806\u001b[0m \u001b[38;5;28;01mexcept\u001b[39;00m \u001b[38;5;167;01mTypeError\u001b[39;00m:\n\u001b[0;32m   3807\u001b[0m     \u001b[38;5;66;03m# If we have a listlike key, _check_indexing_error will raise\u001b[39;00m\n\u001b[0;32m   3808\u001b[0m     \u001b[38;5;66;03m#  InvalidIndexError. Otherwise we fall through and re-raise\u001b[39;00m\n\u001b[0;32m   3809\u001b[0m     \u001b[38;5;66;03m#  the TypeError.\u001b[39;00m\n\u001b[0;32m   3810\u001b[0m     \u001b[38;5;28mself\u001b[39m\u001b[38;5;241m.\u001b[39m_check_indexing_error(key)\n",
      "\u001b[1;31mKeyError\u001b[0m: 'params.confidence_bound'"
     ]
    }
   ],
   "source": [
    "mlflow.end_run()\n",
    "mlflow.start_run()\n",
    "\n",
    "\n",
    "meta_pdf_ci_analysis_df = runs_df.loc[\n",
    "    (runs_df['params.confidence_bound'] == base_confidence_bound) &\n",
    "    (runs_df['params.part_pdf_ci'] == base_part_pdf_ci)]\n",
    "part_pdf_ci_analysis_df = runs_df.loc[\n",
    "    (runs_df['params.confidence_bound'] == base_confidence_bound) &\n",
    "    (runs_df['params.meta_pdf_ci'] == base_meta_pdf_ci)]\n",
    "confidence_bound_analysis_df = runs_df.loc[\n",
    "    (runs_df['params.meta_pdf_ci'] == base_meta_pdf_ci) &\n",
    "    (runs_df['params.part_pdf_ci'] == base_part_pdf_ci)]\n",
    "\n",
    "meta_pdf_ci_part_groups = meta_pdf_ci_analysis_df.groupby('params.part_type')\n",
    "part_pdf_ci_part_groups = part_pdf_ci_analysis_df.groupby('params.part_type')\n",
    "confidence_bound_part_groups = confidence_bound_analysis_df.groupby('params.part_type')\n",
    "\n",
    "\n",
    "def run_experiment(df_groups, param_col: str):\n",
    "    \n",
    "    for part_type, part_group in df_groups:\n",
    "    \n",
    "        part_group.sort_values(by=param_col, inplace=True)\n",
    "        vars = [\n",
    "            np.var(np.array(param_collision_rates)) \n",
    "            for param_collision_rates in part_group['monte_carlo_upper_collision_rate_series'].to_numpy()]    \n",
    "        plt.plot(part_group[param_col], vars, label=f'{part_type} - Correlation: {np.corrcoef(part_group[param_col], vars)[0,1]:.2f}')\n",
    "    \n",
    "    plt.legend()\n",
    "    plt.title(f'Variance of Collision Rates vs {param_col}')\n",
    "    plt.xlabel(f'{param_col}')\n",
    "    plt.ylabel('Variance of Collision Rates')\n",
    "    plt.savefig(f'psig_matcher/experiments/graphs/variance_of_collision_rates_vs_{param_col}.png')\n",
    "    mlflow.log_artifact(f'psig_matcher/experiments/graphs/variance_of_collision_rates_vs_{param_col}.png')\n",
    "    plt.clf()\n",
    "        \n",
    "run_experiment(meta_pdf_ci_part_groups, 'params.meta_pdf_ci')\n",
    "run_experiment(part_pdf_ci_part_groups, 'params.part_pdf_ci')\n",
    "run_experiment(confidence_bound_part_groups, 'params.confidence_bound')"
   ]
  },
  {
   "cell_type": "code",
   "execution_count": 15,
   "metadata": {},
   "outputs": [
    {
     "name": "stderr",
     "output_type": "stream",
     "text": [
      "2022/12/10 16:20:47 INFO mlflow.tracking.fluent: Experiment with name 'Experiment 1 Analysis' does not exist. Creating a new experiment.\n"
     ]
    },
    {
     "ename": "NameError",
     "evalue": "name 'analysis_groups' is not defined",
     "output_type": "error",
     "traceback": [
      "\u001b[1;31m---------------------------------------------------------------------------\u001b[0m",
      "\u001b[1;31mNameError\u001b[0m                                 Traceback (most recent call last)",
      "Cell \u001b[1;32mIn[15], line 2\u001b[0m\n\u001b[0;32m      1\u001b[0m mlflow\u001b[38;5;241m.\u001b[39mset_experiment(\u001b[38;5;124m\"\u001b[39m\u001b[38;5;124mExperiment 1 Analysis\u001b[39m\u001b[38;5;124m\"\u001b[39m)\n\u001b[1;32m----> 2\u001b[0m \u001b[38;5;28;01mfor\u001b[39;00m analysis_type \u001b[38;5;129;01min\u001b[39;00m \u001b[43manalysis_groups\u001b[49m:\n\u001b[0;32m      4\u001b[0m     group \u001b[38;5;241m=\u001b[39m analysis_groups[analysis_type]\n\u001b[0;32m      5\u001b[0m     x_vals \u001b[38;5;241m=\u001b[39m []\n",
      "\u001b[1;31mNameError\u001b[0m: name 'analysis_groups' is not defined"
     ]
    }
   ],
   "source": [
    "mlflow.set_experiment(\"Experiment 1 Analysis\")\n",
    "for analysis_type in analysis_groups:\n",
    "   \n",
    "    group = analysis_groups[analysis_type]\n",
    "    x_vals = []\n",
    "    y_vals = []\n",
    "    \n",
    "    for index, df in group:\n",
    "\n",
    "        col_vals = set(df[analysis_type].to_list())\n",
    "        if len(col_vals) != 1:\n",
    "            raise Exception(f\"More than one {analysis_type} value in group\")\n",
    "\n",
    "        x_vals.append(col_vals.pop())\n",
    "        collision_rates = df['monte_carlo_upper_collision_rate_series'].to_list()\n",
    "        \n",
    "        \n",
    "        \n",
    "    \n",
    "    print(x_vals)\n",
    "        #\n",
    "        \n",
    "    # plt.plot(x_vals, y_vals, label=f'{analysis_type}s vs upper_collision_rate')\n",
    "    # plt.xlabel(analysis_type)\n",
    "    # plt.ylabel(f\"Averaged upper_collision_rate across all tested parts\")\n",
    "    # plt.savefig(f\"psig_matcher/experiments/graphs/{analysis_type}_vs_upper_collision_rate.png\")\n",
    "    # mlflow.log_artifact(f\"psig_matcher/experiments/graphs/{analysis_type}_vs_upper_collision_rate.png\")\n",
    "    \n"
   ]
  },
  {
   "cell_type": "markdown",
   "metadata": {},
   "source": [
    "---"
   ]
  },
  {
   "cell_type": "markdown",
   "metadata": {},
   "source": [
    "## Conclusion\n",
    "\n",
    "TBD."
   ]
  },
  {
   "cell_type": "code",
   "execution_count": null,
   "metadata": {},
   "outputs": [],
   "source": []
  }
 ],
 "metadata": {
  "kernelspec": {
   "display_name": "Python 3 (ipykernel)",
   "language": "python",
   "name": "python3"
  },
  "language_info": {
   "codemirror_mode": {
    "name": "ipython",
    "version": 3
   },
   "file_extension": ".py",
   "mimetype": "text/x-python",
   "name": "python",
   "nbconvert_exporter": "python",
   "pygments_lexer": "ipython3",
   "version": "3.11.0"
  },
  "vscode": {
   "interpreter": {
    "hash": "7e408d6d2624d2574650b7f4ce724a272157838fb62dd59ce9f909f9eb3ba3f6"
   }
  }
 },
 "nbformat": 4,
 "nbformat_minor": 2
}
