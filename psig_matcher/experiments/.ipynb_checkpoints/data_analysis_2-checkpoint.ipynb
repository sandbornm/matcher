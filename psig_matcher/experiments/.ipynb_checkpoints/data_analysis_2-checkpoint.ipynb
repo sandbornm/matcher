{
 "cells": [
  {
   "cell_type": "markdown",
   "metadata": {},
   "source": [
    "# Experiment 2: Part Type Collision Analysis\n",
    "\n",
    "This notebook will contain gathered results from experiment 2."
   ]
  },
  {
   "cell_type": "markdown",
   "metadata": {},
   "source": [
    "# Part Type Collision Analysis\n",
    "## Methodology\n",
    "For each part type we have, run the experiment many times over many different hyperparameters. Specifically, isolate one hyperparameter, run the experiment over a range of values, tracking the computed collision rate each time. Repeat this for each hyperparameter and each part type.\n",
    "## Deliverables\n",
    "Graphs and analysis for the impact of different values of the hyperparmeters. How do they affect the final collision rate? Why are the effecting the collision rate like that? What does this tell us? \n",
    "Graphs and analysis for comparing the results across different part types. Are different part types affected in the same way by the same change in hyperperamters? How close are their collision rates? What does this tell us about the relative importance of both hyperparameters and part types. "
   ]
  },
  {
   "cell_type": "markdown",
   "metadata": {},
   "source": [
    "## Source Code\n",
    "\n",
    "The below sections contains all of our source codes."
   ]
  },
  {
   "cell_type": "code",
   "execution_count": 2,
   "metadata": {},
   "outputs": [],
   "source": [
    "import mlflow\n",
    "import pandas as pd\n",
    "import numpy as np\n",
    "import matplotlib.pyplot as plt"
   ]
  },
  {
   "cell_type": "code",
   "execution_count": 2,
   "metadata": {},
   "outputs": [
    {
     "name": "stdout",
     "output_type": "stream",
     "text": [
      "1\n",
      "5184\n"
     ]
    }
   ],
   "source": [
    "mlflow_client = mlflow.client.MlflowClient()\n",
    "experiment_id = mlflow_client.get_experiment_by_name(\"Experiment 2\").experiment_id\n",
    "print(experiment_id)\n",
    "runs = mlflow_client.search_runs(experiment_id, max_results=10_000)\n",
    "print(len(runs))\n",
    "\n",
    "run_dicts = {\n",
    "    run.info.run_id: {\n",
    "        **run.data.metrics, \n",
    "        **run.data.params}\n",
    "    for run in runs}\n"
   ]
  },
  {
   "cell_type": "code",
   "execution_count": 1,
   "metadata": {},
   "outputs": [
    {
     "ename": "NameError",
     "evalue": "name 'pd' is not defined",
     "output_type": "error",
     "traceback": [
      "\u001b[1;31m---------------------------------------------------------------------------\u001b[0m",
      "\u001b[1;31mNameError\u001b[0m                                 Traceback (most recent call last)",
      "Cell \u001b[1;32mIn[1], line 1\u001b[0m\n\u001b[1;32m----> 1\u001b[0m run_df \u001b[38;5;241m=\u001b[39m \u001b[43mpd\u001b[49m\u001b[38;5;241m.\u001b[39mDataFrame\u001b[38;5;241m.\u001b[39mfrom_dict(run_dicts, orient\u001b[38;5;241m=\u001b[39m\u001b[38;5;124m'\u001b[39m\u001b[38;5;124mindex\u001b[39m\u001b[38;5;124m'\u001b[39m)\n\u001b[0;32m      2\u001b[0m \u001b[38;5;28mprint\u001b[39m(run_df\u001b[38;5;241m.\u001b[39mcolumns)\n",
      "\u001b[1;31mNameError\u001b[0m: name 'pd' is not defined"
     ]
    }
   ],
   "source": [
    "run_df = pd.DataFrame.from_dict(run_dicts, orient='index')\n",
    "print(run_df.columns)"
   ]
  },
  {
   "cell_type": "code",
   "execution_count": 4,
   "metadata": {},
   "outputs": [],
   "source": [
    "analysis_groups = {\n",
    "    \"part_dim\": run_df.groupby('part_dim'),\n",
    "    \"confidence_bound\": run_df.groupby('confidence_bound'),\n",
    "    \"part_pdf_ci\": run_df.groupby('part_pdf_ci'),\n",
    "    \"meta_pdf_ci\": run_df.groupby('meta_pdf_ci')\n",
    "}"
   ]
  },
  {
   "cell_type": "code",
   "execution_count": 5,
   "metadata": {},
   "outputs": [
    {
     "ename": "TypeError",
     "evalue": "tuple indices must be integers or slices, not str",
     "output_type": "error",
     "traceback": [
      "\u001b[1;31m---------------------------------------------------------------------------\u001b[0m",
      "\u001b[1;31mTypeError\u001b[0m                                 Traceback (most recent call last)",
      "Cell \u001b[1;32mIn[5], line 10\u001b[0m\n\u001b[0;32m      6\u001b[0m y_vals \u001b[38;5;241m=\u001b[39m []\n\u001b[0;32m      8\u001b[0m \u001b[38;5;28;01mfor\u001b[39;00m df \u001b[38;5;129;01min\u001b[39;00m group:\n\u001b[1;32m---> 10\u001b[0m     col_vals \u001b[38;5;241m=\u001b[39m \u001b[38;5;28mset\u001b[39m(\u001b[43mdf\u001b[49m\u001b[43m[\u001b[49m\u001b[43manalysis_type\u001b[49m\u001b[43m]\u001b[49m\u001b[38;5;241m.\u001b[39mto_list())\n\u001b[0;32m     11\u001b[0m     \u001b[38;5;28;01mif\u001b[39;00m \u001b[38;5;28mlen\u001b[39m(x_vals) \u001b[38;5;241m!=\u001b[39m \u001b[38;5;241m1\u001b[39m:\n\u001b[0;32m     12\u001b[0m         \u001b[38;5;28;01mraise\u001b[39;00m \u001b[38;5;167;01mException\u001b[39;00m(\u001b[38;5;124mf\u001b[39m\u001b[38;5;124m\"\u001b[39m\u001b[38;5;124mMore than one \u001b[39m\u001b[38;5;132;01m{\u001b[39;00manalysis_type\u001b[38;5;132;01m}\u001b[39;00m\u001b[38;5;124m value in group\u001b[39m\u001b[38;5;124m\"\u001b[39m)\n",
      "\u001b[1;31mTypeError\u001b[0m: tuple indices must be integers or slices, not str"
     ]
    }
   ],
   "source": [
    "mlflow.set_experiment(\"Experiment 2 Analysis\")\n",
    "for analysis_type in analysis_groups:\n",
    "   \n",
    "    group = analysis_groups[analysis_type]\n",
    "    x_vals = []\n",
    "    y_vals = []\n",
    "    \n",
    "    for df in group:\n",
    "        \n",
    "        col_vals = set(df[analysis_type].to_list())\n",
    "        if len(x_vals) != 1:\n",
    "            raise Exception(f\"More than one {analysis_type} value in group\")\n",
    "        \n",
    "        x_vals.append(col_vals.pop())\n",
    "        y_vals.append(df['upper_collision_rate'].mean())\n",
    "        \n",
    "    plt.plot(x_vals, y_vals, label=f'{analysis_type}s vs upper_collision_rate')\n",
    "    plt.xlabel(analysis_type)\n",
    "    plt.ylabel(f\"Averaged upper_collision_rate across all tested parts\")\n",
    "    plt.savefig(f\"psig_matcher/experiments/graphs/{analysis_type}_vs_upper_collision_rate.png\")\n",
    "    mlflow.log_artifact(f\"psig_matcher/experiments/graphs/{analysis_type}_vs_upper_collision_rate.png\")\n",
    "    "
   ]
  },
  {
   "cell_type": "markdown",
   "metadata": {},
   "source": [
    "---"
   ]
  },
  {
   "cell_type": "markdown",
   "metadata": {},
   "source": [
    "## Conclusion\n",
    "\n",
    "TBD."
   ]
  },
  {
   "cell_type": "code",
   "execution_count": null,
   "metadata": {},
   "outputs": [],
   "source": []
  }
 ],
 "metadata": {
  "kernelspec": {
   "display_name": "Python 3 (ipykernel)",
   "language": "python",
   "name": "python3"
  },
  "language_info": {
   "codemirror_mode": {
    "name": "ipython",
    "version": 3
   },
   "file_extension": ".py",
   "mimetype": "text/x-python",
   "name": "python",
   "nbconvert_exporter": "python",
   "pygments_lexer": "ipython3",
   "version": "3.11.0"
  },
  "vscode": {
   "interpreter": {
    "hash": "7e408d6d2624d2574650b7f4ce724a272157838fb62dd59ce9f909f9eb3ba3f6"
   }
  }
 },
 "nbformat": 4,
 "nbformat_minor": 2
}
